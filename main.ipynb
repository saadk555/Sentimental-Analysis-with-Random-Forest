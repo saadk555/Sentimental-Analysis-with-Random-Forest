{
 "cells": [
  {
   "cell_type": "markdown",
   "metadata": {},
   "source": [
    "Random Forest in NLP for sentimental analysis"
   ]
  },
  {
   "cell_type": "code",
   "execution_count": 101,
   "metadata": {},
   "outputs": [],
   "source": [
    "import pandas as pd\n",
    "import nltk\n",
    "from sklearn.feature_extraction.text import TfidfVectorizer\n",
    "from sklearn.model_selection import train_test_split\n",
    "from sklearn.ensemble import RandomForestClassifier\n",
    "from sklearn.metrics import accuracy_score\n",
    "import joblib\n",
    "from nltk.corpus import stopwords\n",
    "from nltk.stem import PorterStemmer\n",
    "from sklearn.metrics import classification_report, confusion_matrix\n",
    "import matplotlib.pyplot as plt\n",
    "import seaborn as sns"
   ]
  },
  {
   "cell_type": "code",
   "execution_count": 102,
   "metadata": {},
   "outputs": [
    {
     "name": "stderr",
     "output_type": "stream",
     "text": [
      "[nltk_data] Downloading package stopwords to\n",
      "[nltk_data]     C:\\Users\\dell\\AppData\\Roaming\\nltk_data...\n",
      "[nltk_data]   Package stopwords is already up-to-date!\n"
     ]
    },
    {
     "name": "stdout",
     "output_type": "stream",
     "text": [
      "['i', 'me', 'my', 'myself', 'we', 'our', 'ours', 'ourselves', 'you', \"you're\"]\n"
     ]
    }
   ],
   "source": [
    "# Download the stopwords from NLTK\n",
    "nltk.download('stopwords')\n",
    "\n",
    "# Initialize the stemmer\n",
    "stemmer = PorterStemmer()\n",
    "\n",
    "print(stopwords.words('english')[:10])"
   ]
  },
  {
   "cell_type": "code",
   "execution_count": 103,
   "metadata": {},
   "outputs": [
    {
     "name": "stdout",
     "output_type": "stream",
     "text": [
      "       textID  \\\n",
      "0  f87dea47db   \n",
      "1  96d74cb729   \n",
      "2  eee518ae67   \n",
      "3  01082688c6   \n",
      "4  33987a8ee5   \n",
      "\n",
      "                                                                                                  text  \\\n",
      "0                                                    Last session of the day  http://twitpic.com/67ezh   \n",
      "1   Shanghai is also really exciting (precisely -- skyscrapers galore). Good tweeps in China:  (SH)...   \n",
      "2                       Recession hit Veronique Branquinho, she has to quit her company, such a shame!   \n",
      "3                                                                                          happy bday!   \n",
      "4                                                               http://twitpic.com/4w75p - I like it!!   \n",
      "\n",
      "  sentiment Time of Tweet Age of User      Country  Population -2020  \\\n",
      "0   neutral       morning        0-20  Afghanistan        38928346.0   \n",
      "1  positive          noon       21-30      Albania         2877797.0   \n",
      "2  negative         night       31-45      Algeria        43851044.0   \n",
      "3  positive       morning       46-60      Andorra           77265.0   \n",
      "4  positive          noon       60-70       Angola        32866272.0   \n",
      "\n",
      "   Land Area (Km²)  Density (P/Km²)  \n",
      "0         652860.0             60.0  \n",
      "1          27400.0            105.0  \n",
      "2        2381740.0             18.0  \n",
      "3            470.0            164.0  \n",
      "4        1246700.0             26.0  \n"
     ]
    }
   ],
   "source": [
    "df = pd.read_csv('test.csv', encoding='cp1252')\n",
    "print(df.head())"
   ]
  },
  {
   "cell_type": "code",
   "execution_count": 104,
   "metadata": {},
   "outputs": [
    {
     "name": "stdout",
     "output_type": "stream",
     "text": [
      "text         1281\n",
      "sentiment    1281\n",
      "dtype: int64\n"
     ]
    },
    {
     "name": "stderr",
     "output_type": "stream",
     "text": [
      "C:\\Users\\dell\\AppData\\Local\\Temp\\ipykernel_5268\\2964875760.py:11: FutureWarning: The default value of regex will change from True to False in a future version.\n",
      "  df['text'] = df['text'].str.replace('[^\\'\\w\\s]', '')\n"
     ]
    },
    {
     "name": "stdout",
     "output_type": "stream",
     "text": [
      "                                                                      text  \\\n",
      "0                                     last session day httptwitpiccom67ezh   \n",
      "1  shanghai also realli excit precis skyscrap galor good tweep china sh bj   \n",
      "2                        recess hit veroniqu branquinho quit compani shame   \n",
      "3                                                               happi bday   \n",
      "4                                                 httptwitpiccom4w75p like   \n",
      "\n",
      "  sentiment  \n",
      "0   neutral  \n",
      "1  positive  \n",
      "2  negative  \n",
      "3  positive  \n",
      "4  positive  \n"
     ]
    }
   ],
   "source": [
    "\n",
    "df = df[['text', 'sentiment']]\n",
    "\n",
    "# Check for NaN values in the DataFrame\n",
    "print(df.isna().sum())\n",
    "\n",
    "# Drop rows with NaN values\n",
    "df = df.dropna()\n",
    "\n",
    "\n",
    "#Data cleaning\n",
    "df['text'] = df['text'].str.replace('[^\\'\\w\\s]', '')\n",
    "df['text'] = df['text'].str.lower()\n",
    "stop = stopwords.words('english')\n",
    "df['text'] = df['text'].astype(str)\n",
    "df['text'] = df['text'].apply(lambda x: ' '.join([stemmer.stem(word) for word in x.split() if word not in (stop)]))\n",
    "df = df.dropna(subset=['text'])\n",
    "\n",
    "#vectorizer = TfidfVectorizer(ngram_range=(1, 2)) # Accuracy was less with n-gram grouping\n",
    "vectorizer = TfidfVectorizer()\n",
    "X = vectorizer.fit_transform(df['text'])\n",
    "\n",
    "print(df.head())"
   ]
  },
  {
   "cell_type": "code",
   "execution_count": 105,
   "metadata": {},
   "outputs": [],
   "source": [
    "# Split the data into training and testing sets\n",
    "X_train, X_test, y_train, y_test = train_test_split(X, df['sentiment'], test_size=0.2, random_state=42)\n"
   ]
  },
  {
   "cell_type": "code",
   "execution_count": 106,
   "metadata": {},
   "outputs": [
    {
     "data": {
      "text/plain": [
       "['vectorizer.joblib']"
      ]
     },
     "execution_count": 106,
     "metadata": {},
     "output_type": "execute_result"
    }
   ],
   "source": [
    "# Create and train the RandomForestClassifier\n",
    "clf = RandomForestClassifier(n_estimators=100, random_state=42)\n",
    "clf.fit(X_train, y_train)\n",
    "\n",
    "# Save the trained model and vectorizer\n",
    "joblib.dump(clf, 'random_forest.joblib')\n",
    "joblib.dump(vectorizer, 'vectorizer.joblib')\n"
   ]
  },
  {
   "cell_type": "code",
   "execution_count": 107,
   "metadata": {},
   "outputs": [
    {
     "name": "stdout",
     "output_type": "stream",
     "text": [
      "Accuracy: 0.6633663366336634\n",
      "              precision    recall  f1-score   support\n",
      "\n",
      "    negative       0.77      0.47      0.59       207\n",
      "     neutral       0.59      0.79      0.67       286\n",
      "    positive       0.75      0.67      0.71       214\n",
      "\n",
      "    accuracy                           0.66       707\n",
      "   macro avg       0.70      0.65      0.66       707\n",
      "weighted avg       0.69      0.66      0.66       707\n",
      "\n"
     ]
    },
    {
     "data": {
      "image/png": "[encoded data removed]",
      "text/plain": [
       "<Figure size 720x504 with 2 Axes>"
      ]
     },
     "metadata": {
      "needs_background": "light"
     },
     "output_type": "display_data"
    }
   ],
   "source": [
    "# Load the trained model and vectorizer\n",
    "clf = joblib.load('random_forest.joblib')\n",
    "vectorizer = joblib.load('vectorizer.joblib')\n",
    "\n",
    "\n",
    "# Making predictions on the testing set and calculating the scores\n",
    "y_pred = clf.predict(X_test)\n",
    "print('Accuracy:', accuracy_score(y_test, y_pred))\n",
    "print(classification_report(y_test, y_pred))\n",
    "\n",
    "# Calculate the confusion matrix\n",
    "cm = confusion_matrix(y_test, y_pred)\n",
    "\n",
    "# Plot the confusion matrix\n",
    "plt.figure(figsize=(10,7))\n",
    "sns.heatmap(cm, annot=True, fmt='d')\n",
    "plt.xlabel('Predicted')\n",
    "plt.ylabel('Truth')\n",
    "plt.show()\n"
   ]
  },
  {
   "cell_type": "code",
   "execution_count": 108,
   "metadata": {},
   "outputs": [
    {
     "name": "stdout",
     "output_type": "stream",
     "text": [
      "Sentiment: positive\n"
     ]
    }
   ],
   "source": [
    "# Predict sentiment for a new comment\n",
    "new_comment = [\"I love this product!\"]\n",
    "new_comment_transform = vectorizer.transform(new_comment)\n",
    "new_pred = clf.predict(new_comment_transform)\n",
    "print('Sentiment:', new_pred[0])"
   ]
  }
 ],
 "metadata": {
  "kernelspec": {
   "display_name": "Python 3",
   "language": "python",
   "name": "python3"
  },
  "language_info": {
   "codemirror_mode": {
    "name": "ipython",
    "version": 3
   },
   "file_extension": ".py",
   "mimetype": "text/x-python",
   "name": "python",
   "nbconvert_exporter": "python",
   "pygments_lexer": "ipython3",
   "version": "3.10.4"
  }
 },
 "nbformat": 4,
 "nbformat_minor": 2
}
